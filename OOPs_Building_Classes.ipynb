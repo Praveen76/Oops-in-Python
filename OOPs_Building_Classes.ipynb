{
  "nbformat": 4,
  "nbformat_minor": 0,
  "metadata": {
    "date": 1627364945.1596882,
    "filename": "python_oop.md",
    "kernelspec": {
      "display_name": "Python",
      "language": "python3",
      "name": "python3"
    },
    "title": "OOP II: Building Classes",
    "colab": {
      "provenance": [],
      "include_colab_link": true
    }
  },
  "cells": [
    {
      "cell_type": "markdown",
      "metadata": {
        "id": "view-in-github",
        "colab_type": "text"
      },
      "source": [
        "<a href=\"https://colab.research.google.com/github/Praveen76/Oops-in-Python/blob/main/OOPs_Building_Classes.ipynb\" target=\"_parent\"><img src=\"https://colab.research.google.com/assets/colab-badge.svg\" alt=\"Open In Colab\"/></a>"
      ]
    },
    {
      "cell_type": "markdown",
      "metadata": {
        "id": "under-mozambique"
      },
      "source": [
        "## Learning Objectives"
      ]
    },
    {
      "cell_type": "markdown",
      "metadata": {
        "id": "qTHJx-H5Lc79"
      },
      "source": [
        "At the end of the experiment, you will be able to\n",
        "\n",
        "- learn the general structure of classes in OOPs using python\n",
        "- learn how to build your own class using OOP, specialized to the needs\n",
        "\n"
      ]
    },
    {
      "cell_type": "markdown",
      "metadata": {
        "id": "1fxjxpV9S0Vi"
      },
      "source": [
        "## Information"
      ]
    },
    {
      "cell_type": "markdown",
      "metadata": {
        "id": "kvXA4KABS24N"
      },
      "source": [
        "Let us look at an instance where we want to write a program based on Consumers, who can\n",
        "\n",
        "- hold and spend cash  \n",
        "- consume goods  \n",
        "- work and earn cash  \n",
        "\n",
        "\n",
        "We could create consumers as objects with\n",
        "\n",
        "- data, such as cash on hand  \n",
        "- methods, such as `buy` or `work` that affect this data  \n",
        "\n",
        "\n",
        "This is easy to do with Python because it provides us with **class definitions**.\n",
        "\n",
        "Classes are blueprints that help us build objects according to our own specifications."
      ]
    },
    {
      "cell_type": "markdown",
      "metadata": {
        "id": "LWim6q9RLc8h"
      },
      "source": [
        "### Why is OOP Useful?\n",
        "\n",
        "OOP is useful for recognizing and exploiting the common structure.\n",
        "\n",
        "For example,\n",
        "\n",
        "- *a game* consists of a list of players, lists of actions available to each player, each player’s payoffs as functions of all other players’ actions, and a timing protocol  \n",
        "\n",
        "\n",
        "These are all abstractions that collect together, “objects” of the same “type”.\n",
        "\n",
        "Recognizing common structure allows us to employ common tools.\n",
        "\n"
      ]
    },
    {
      "cell_type": "markdown",
      "metadata": {
        "id": "4vW4zl3ALc8j"
      },
      "source": [
        "### Defining Your Own Classes\n",
        "\n",
        "\n",
        "<a id='index-3'></a>\n",
        "Let’s build some simple classes to start off.\n",
        "\n",
        "\n",
        "<a id='oop-consumer-class'></a>\n",
        "Before we do so, in order to indicate some of the power of Classes, we’ll define two functions that we’ll call `earn` and `spend`."
      ]
    },
    {
      "cell_type": "code",
      "metadata": {
        "hide-output": false,
        "id": "1jI89DmwLc8n"
      },
      "source": [
        "def earn(w,y):\n",
        "    \"Consumer with inital wealth w earns y\"\n",
        "    return w+y\n",
        "\n",
        "def spend(w,x):\n",
        "    \"consumer with initial wealth w spends x\"\n",
        "    new_wealth = w -x\n",
        "    if new_wealth < 0:\n",
        "        print(\"Insufficient funds\")\n",
        "    else:\n",
        "        return new_wealth"
      ],
      "execution_count": null,
      "outputs": []
    },
    {
      "cell_type": "markdown",
      "metadata": {
        "id": "xkikjLPULc8q"
      },
      "source": [
        "The `earn` function takes a consumer’s initial wealth $ w $ and  adds to it her current earnings $ y $.\n",
        "\n",
        "The `spend` function takes a consumer’s initial wealth $ w $ and deducts from it  her current spending $ x $.\n",
        "\n",
        "We can use these two functions to keep track of a consumer’s wealth according to the earns and spends.\n",
        "\n",
        "For example"
      ]
    },
    {
      "cell_type": "code",
      "metadata": {
        "hide-output": false,
        "id": "H7BsJiVMLc8s",
        "colab": {
          "base_uri": "https://localhost:8080/"
        },
        "outputId": "77f23a8a-d4bd-4eb8-b90b-e9ed181a6071"
      },
      "source": [
        "w0=100                                             # intial wealth is 100\n",
        "w1=earn(w0,10)                                     # current earnings is 10\n",
        "w2=spend(w1,20)                                    # current spendings is 20\n",
        "w3=earn(w2,10)\n",
        "w4=spend(w3,20)\n",
        "print(\"w0,w1,w2,w3,w4 = \", w0,w1,w2,w3,w4)"
      ],
      "execution_count": null,
      "outputs": [
        {
          "output_type": "stream",
          "name": "stdout",
          "text": [
            "w0,w1,w2,w3,w4 =  100 110 90 100 80\n"
          ]
        }
      ]
    },
    {
      "cell_type": "markdown",
      "metadata": {
        "id": "Xbd8Ool1Lc8u"
      },
      "source": [
        "A *Class* bundles a set of data tied to a particular *instance* together with a collection of functions that operate on the data.\n",
        "\n",
        "In our example, an *instance* will be the name of  particular *person* whose *instance data* consists solely of its wealth.\n",
        "\n",
        "In our example, two functions `earn` and `spend` can be applied to the current instance data.\n",
        "\n",
        "Taken together,  the instance data and functions  are called *methods*.\n",
        "\n",
        "These can be readily accessed in ways described below."
      ]
    },
    {
      "cell_type": "markdown",
      "metadata": {
        "id": "PEIXB7wyLc8w"
      },
      "source": [
        "#### Example: A Consumer Class\n",
        "\n",
        "We’ll build a `Consumer` class with\n",
        "\n",
        "- a `wealth` attribute that stores the consumer’s wealth (data)  \n",
        "- an `earn` method, where `earn(y)` increments the consumer’s wealth by `y`  \n",
        "- a `spend` method, where `spend(x)` either decreases wealth by `x` or returns an error if insufficient funds exist  \n",
        "\n",
        "Here we set up our Consumer class."
      ]
    },
    {
      "cell_type": "code",
      "metadata": {
        "hide-output": false,
        "id": "waMYuZ5KLc8y"
      },
      "source": [
        "class Consumer:\n",
        "\n",
        "    def __init__(self, w):\n",
        "        \"Initialize consumer with w dollars of wealth\"\n",
        "        self.wealth = w\n",
        "\n",
        "    def earn(self, y):\n",
        "        \"The consumer earns y dollars\"\n",
        "        self.wealth += y\n",
        "\n",
        "    def spend(self, x):\n",
        "        \"The consumer spends x dollars if feasible\"\n",
        "        new_wealth = self.wealth - x\n",
        "        if new_wealth < 0:\n",
        "            print(\"Insufficent funds\")\n",
        "        else:\n",
        "            self.wealth = new_wealth"
      ],
      "execution_count": null,
      "outputs": []
    },
    {
      "cell_type": "markdown",
      "metadata": {
        "id": "qMavu3m0Lc8z"
      },
      "source": [
        "Let us see the special syntax used above:\n",
        "\n",
        "- The `class` keyword indicates that we are building a class.  \n",
        "\n",
        "\n",
        "The `Consumer` class defines instance data `wealth` and three methods: `__init__`, `earn` and `spend`\n",
        "\n",
        "- `wealth` is *instance data* because each consumer we create (each instance of the `Consumer` class) will have its own wealth data.  \n",
        "\n",
        "\n",
        "The `earn` and `spend` methods deploy the functions we described earlier and that can potentially be applied to the `wealth` instance data.\n",
        "\n",
        "The `__init__` method is a *constructor method*.\n",
        "\n",
        "Whenever we create an instance of the class, the `__init_` method will be called automatically.\n",
        "\n",
        "Calling `__init__` sets up a “namespace” to hold the instance data — more on this soon.\n",
        "\n",
        "We’ll also discuss the role of the peculiar  `self` book keeping device in detail below."
      ]
    },
    {
      "cell_type": "markdown",
      "metadata": {
        "id": "02837gd5Lc80"
      },
      "source": [
        "#### Usage\n",
        "\n",
        "Here’s an example in which we use the class `Consumer` to create an instance of a consumer called $ c1 $.\n",
        "\n",
        "After we create consumer $ c1 $ and endow it with initial wealth $ 10 $, we’ll apply the `spend` method."
      ]
    },
    {
      "cell_type": "code",
      "metadata": {
        "hide-output": false,
        "id": "elUmsEknLc82",
        "colab": {
          "base_uri": "https://localhost:8080/"
        },
        "outputId": "25b80e5c-6734-4827-9e67-c14f5cd13b59"
      },
      "source": [
        "c1 = Consumer(10)  # Create instance with initial wealth 10\n",
        "c1.spend(5)        # Create spend of 5 dollars\n",
        "c1.wealth"
      ],
      "execution_count": null,
      "outputs": [
        {
          "output_type": "execute_result",
          "data": {
            "text/plain": [
              "5"
            ]
          },
          "metadata": {},
          "execution_count": 7
        }
      ]
    },
    {
      "cell_type": "code",
      "metadata": {
        "hide-output": false,
        "id": "CZjSER7JLc83",
        "colab": {
          "base_uri": "https://localhost:8080/"
        },
        "outputId": "3692df17-6596-44e0-fe41-eb0bb038d28a"
      },
      "source": [
        "c1.earn(15)\n",
        "c1.spend(100)"
      ],
      "execution_count": null,
      "outputs": [
        {
          "output_type": "stream",
          "name": "stdout",
          "text": [
            "Insufficent funds\n"
          ]
        }
      ]
    },
    {
      "cell_type": "markdown",
      "metadata": {
        "id": "hEoNojWJLc84"
      },
      "source": [
        "Multiple instances can be created, i.e., multiple consumers,  each with their own name and  data"
      ]
    },
    {
      "cell_type": "code",
      "metadata": {
        "hide-output": false,
        "id": "yGTyNK6PLc85",
        "colab": {
          "base_uri": "https://localhost:8080/"
        },
        "outputId": "08fe8194-81a5-4e93-e794-f2ea46dae11e"
      },
      "source": [
        "c1 = Consumer(10)\n",
        "c2 = Consumer(12)\n",
        "c2.spend(4)\n",
        "c2.wealth"
      ],
      "execution_count": null,
      "outputs": [
        {
          "output_type": "execute_result",
          "data": {
            "text/plain": [
              "8"
            ]
          },
          "metadata": {},
          "execution_count": 9
        }
      ]
    },
    {
      "cell_type": "code",
      "metadata": {
        "hide-output": false,
        "id": "yhPNjCliLc86",
        "colab": {
          "base_uri": "https://localhost:8080/"
        },
        "outputId": "ba82af77-3cfa-4f5f-ef91-e7ec67f48b6e"
      },
      "source": [
        "c1.wealth"
      ],
      "execution_count": null,
      "outputs": [
        {
          "output_type": "execute_result",
          "data": {
            "text/plain": [
              "10"
            ]
          },
          "metadata": {},
          "execution_count": 10
        }
      ]
    },
    {
      "cell_type": "markdown",
      "metadata": {
        "id": "PzkCH0XZLc87"
      },
      "source": [
        "Each instance, i.e., each consumer,  stores its data in a separate namespace dictionary"
      ]
    },
    {
      "cell_type": "code",
      "metadata": {
        "hide-output": false,
        "id": "NjWicf_LLc88",
        "colab": {
          "base_uri": "https://localhost:8080/"
        },
        "outputId": "d25aaf86-a715-445f-bb3b-c3444a73da40"
      },
      "source": [
        "c1.__dict__"
      ],
      "execution_count": null,
      "outputs": [
        {
          "output_type": "execute_result",
          "data": {
            "text/plain": [
              "{'wealth': 10}"
            ]
          },
          "metadata": {},
          "execution_count": 11
        }
      ]
    },
    {
      "cell_type": "code",
      "metadata": {
        "hide-output": false,
        "id": "_g7zJQmmLc89",
        "colab": {
          "base_uri": "https://localhost:8080/"
        },
        "outputId": "09d362cc-1086-4335-91a2-3d8898ceeccb"
      },
      "source": [
        "c2.__dict__"
      ],
      "execution_count": null,
      "outputs": [
        {
          "output_type": "execute_result",
          "data": {
            "text/plain": [
              "{'wealth': 8}"
            ]
          },
          "metadata": {},
          "execution_count": 12
        }
      ]
    },
    {
      "cell_type": "markdown",
      "metadata": {
        "id": "SJFIZetkLc8-"
      },
      "source": [
        "When we access or set attributes we’re actually just modifying the dictionary\n",
        "maintained by the instance."
      ]
    },
    {
      "cell_type": "markdown",
      "metadata": {
        "id": "_T-xIVtJLc8-"
      },
      "source": [
        "#### Self\n",
        "\n",
        "If you look at the `Consumer` class definition again you’ll see the word\n",
        "`self` throughout the code.\n",
        "\n",
        "The rules for using `self` in creating a Class are that\n",
        "\n",
        "- Any instance data should be prepended with `self`  \n",
        "  - e.g., the `earn` method uses `self.wealth` rather than just `wealth`  \n",
        "- A method defined within the code that defines the  class should have `self` as its first argument  \n",
        "  - e.g., `def earn(self, y)` rather than just `def earn(y)`  \n",
        "- Any method referenced within the class should be called as  `self.method_name`  \n",
        "\n",
        "\n",
        "There are no examples of the last rule in the preceding code but we will see some shortly."
      ]
    },
    {
      "cell_type": "markdown",
      "metadata": {
        "id": "Wixns710Lc9A"
      },
      "source": [
        "#### Details\n",
        "\n",
        "In this section, we look at some more formal details related to classes and `self`\n",
        "\n",
        "Methods reside inside a class object formed when the interpreter reads\n",
        "the class definition"
      ]
    },
    {
      "cell_type": "code",
      "metadata": {
        "hide-output": false,
        "id": "TbVxu1PQLc9B",
        "colab": {
          "base_uri": "https://localhost:8080/"
        },
        "outputId": "7fa90e52-cc4e-4232-c827-65ef2094ae86"
      },
      "source": [
        "print(Consumer.__dict__)  # Show __dict__ attribute of class object"
      ],
      "execution_count": null,
      "outputs": [
        {
          "output_type": "stream",
          "name": "stdout",
          "text": [
            "{'__module__': '__main__', '__init__': <function Consumer.__init__ at 0x7b24a4669000>, 'earn': <function Consumer.earn at 0x7b24940cf1c0>, 'spend': <function Consumer.spend at 0x7b24940cf400>, '__dict__': <attribute '__dict__' of 'Consumer' objects>, '__weakref__': <attribute '__weakref__' of 'Consumer' objects>, '__doc__': None}\n"
          ]
        }
      ]
    },
    {
      "cell_type": "markdown",
      "metadata": {
        "id": "5oPo27gwLc9C"
      },
      "source": [
        "Note how the three methods `__init__`, `earn` and `spend` are stored in the class object.\n",
        "\n",
        "Consider the following code"
      ]
    },
    {
      "cell_type": "code",
      "metadata": {
        "hide-output": false,
        "id": "wDBdEHy0Lc9C",
        "colab": {
          "base_uri": "https://localhost:8080/"
        },
        "outputId": "59ccd308-5c80-4865-e5de-7322362fee13"
      },
      "source": [
        "c1 = Consumer(10)\n",
        "c1.earn(10)\n",
        "c1.wealth"
      ],
      "execution_count": null,
      "outputs": [
        {
          "output_type": "execute_result",
          "data": {
            "text/plain": [
              "20"
            ]
          },
          "metadata": {},
          "execution_count": 14
        }
      ]
    },
    {
      "cell_type": "markdown",
      "metadata": {
        "id": "KOaso9qTLc9E"
      },
      "source": [
        "When we call `earn` via `c1.earn(10)` the interpreter passes the instance `c1` and the argument `10` to `Consumer.earn`.\n",
        "\n",
        "In fact, the following are equivalent\n",
        "\n",
        "- `c1.earn(10)`  \n",
        "- `Consumer.earn(c1, 10)`  \n",
        "\n",
        "\n",
        "In the function call `Consumer.earn(c1, 10)` note that `c1` is the first argument.\n",
        "\n",
        "Recall that in the definition of the `earn` method, `self` is the first parameter"
      ]
    },
    {
      "cell_type": "code",
      "metadata": {
        "hide-output": false,
        "id": "2U7k0sHRLc9F"
      },
      "source": [
        "def earn(self, y):\n",
        "     \"The consumer earns y dollars\"\n",
        "     self.wealth += y"
      ],
      "execution_count": null,
      "outputs": []
    },
    {
      "cell_type": "markdown",
      "metadata": {
        "id": "aTrjs0qYLc9G"
      },
      "source": [
        "The end result is that `self` is bound to the instance `c1` inside the function call.\n",
        "\n",
        "That’s why the statement `self.wealth += y` inside `earn` ends up modifying `c1.wealth`.\n",
        "\n",
        "\n",
        "<a id='oop-solow-growth'></a>"
      ]
    },
    {
      "cell_type": "markdown",
      "metadata": {
        "id": "tqf8GA3Lwyun"
      },
      "source": [
        "Here is a exercise question given below on creating a class of our requirement."
      ]
    },
    {
      "cell_type": "markdown",
      "metadata": {
        "id": "GAaQTz4jw-vl"
      },
      "source": [
        "**Ungraded Exercise**\n",
        "\n",
        "Exercise: Create a Bike class with max_speed (maximum speed) and mileage (Number of kms in one litre of fuel) instance attributes.\n"
      ]
    }
  ]
}